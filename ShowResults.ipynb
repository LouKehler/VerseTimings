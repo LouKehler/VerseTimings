{
 "cells": [
  {
   "cell_type": "heading",
   "metadata": {},
   "level": 1,
   "source": [
    "Defining a dialog"
   ]
  },
  {
   "cell_type": "code",
   "execution_count": null,
   "metadata": {},
   "outputs": [],
   "source": [
    "from PyQt5 import QtCore, QtGui, QtWidgets\n",
    "\n",
    "import dialog2\n",
    "\n",
    "class Ui_Dialog(object):\n",
    "    def setupUi(self, dialog):\n",
    "        self.dialog = dialog\n",
    "        dialog.setObjectName(\"dialog\")\n",
    "        dialog.resize(400, 300)\n",
    "        self.buttonBox = QtWidgets.QDialogButtonBox(dialog)\n",
    "        self.buttonBox.setGeometry(QtCore.QRect(30, 240, 341, 32))\n",
    "        self.buttonBox.setOrientation(QtCore.Qt.Horizontal)\n",
    "        self.buttonBox.setStandardButtons(QtWidgets.QDialogButtonBox.Cancel|QtWidgets.QDialogButtonBox.Ok)\n",
    "        self.buttonBox.setObjectName(\"buttonBox\")\n",
    "        self.verticalLayoutWidget = QtWidgets.QWidget(dialog)\n",
    "        self.verticalLayoutWidget.setGeometry(QtCore.QRect(10, 10, 381, 211))\n",
    "        self.verticalLayoutWidget.setObjectName(\"verticalLayoutWidget\")\n",
    "        self.verticalLayout = QtWidgets.QVBoxLayout(self.verticalLayoutWidget)\n",
    "        self.verticalLayout.setContentsMargins(0, 0, 0, 0)\n",
    "        self.verticalLayout.setObjectName(\"verticalLayout\")\n",
    "        self.textEdit = QtWidgets.QTextEdit(self.verticalLayoutWidget)\n",
    "        self.textEdit.setObjectName(\"textEdit\")\n",
    "        self.verticalLayout.addWidget(self.textEdit)\n",
    "        self.textEdit.setFontFamily(\"Jameel Noori Nastaleeq\")\n",
    "        self.textEdit.setFontPointSize(36)\n",
    "        self.textEdit.setText(\"میں کراچی جانا چاہتا ہُوں۔\")\n",
    "\n",
    "        self.retranslateUi(dialog)\n",
    "        self.buttonBox.accepted.connect(self.accept)\n",
    "        self.buttonBox.rejected.connect(self.reject)\n",
    "        QtCore.QMetaObject.connectSlotsByName(dialog)\n",
    "\n",
    "    def retranslateUi(self, dialog):\n",
    "        _translate = QtCore.QCoreApplication.translate\n",
    "        dialog.setWindowTitle(_translate(\"Dialog\", \"Dialog\"))\n",
    "\n"
   ]
  },
  {
   "cell_type": "heading",
   "metadata": {},
   "level": 1,
   "source": [
    "How to call a modal dialog"
   ]
  },
  {
   "cell_type": "code",
   "execution_count": null,
   "metadata": {
    "collapsed": true
   },
   "outputs": [],
   "source": [
    "        dialogWindow = QtWidgets.QDialog()\n",
    "        window = dialog2.Ui_Dialog()\n",
    "        window.setupUi(dialogWindow)\n",
    "        result = dialogWindow.exec_()"
   ]
  }
 ],
 "metadata": {
  "kernelspec": {
   "display_name": "Python 2",
   "language": "python",
   "name": "python2"
  },
  "language_info": {
   "codemirror_mode": {
    "name": "ipython",
    "version": 2
   },
   "file_extension": ".py",
   "mimetype": "text/x-python",
   "name": "python",
   "nbconvert_exporter": "python",
   "pygments_lexer": "ipython2",
   "version": "2.7.6"
  }
 },
 "nbformat": 4,
 "nbformat_minor": 0
}
